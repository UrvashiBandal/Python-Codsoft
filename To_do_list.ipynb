{
 "cells": [
  {
   "cell_type": "code",
   "execution_count": 3,
   "id": "67472565",
   "metadata": {},
   "outputs": [],
   "source": [
    "import tkinter as tk\n",
    "from tkinter import messagebox\n",
    "tasks = []\n",
    "task_number = 1\n",
    "\n",
    "def add_task():\n",
    "    global task_number\n",
    "    task = entry.get()\n",
    "    if task:\n",
    "        tasks.append(task)\n",
    "        listbox.insert(tk.END, f\"{task_number}. {task}\")\n",
    "        entry.delete(0, tk.END)\n",
    "        task_number += 1\n",
    "\n",
    "def edit_task():\n",
    "    selected_index = listbox.curselection()\n",
    "    if selected_index:\n",
    "        selected_task = listbox.get(selected_index)\n",
    "        new_task = entry.get()\n",
    "        if new_task:\n",
    "            tasks[selected_index[0]] = new_task\n",
    "            listbox.delete(selected_index)\n",
    "            listbox.insert(selected_index, f\"{selected_task.split('.')[0]}. {new_task}\")\n",
    "            entry.delete(0, tk.END)\n",
    "        else:\n",
    "            messagebox.showwarning(\"Note\", \"Please enter a new task.\")\n",
    "\n",
    "def delete_task():\n",
    "    selected_index = listbox.curselection()\n",
    "    if selected_index:\n",
    "        confirmation = messagebox.askyesno(\"Confirm\", \"Are you sure you want to delete the selected task?\")\n",
    "        if confirmation:\n",
    "            listbox.delete(selected_index)\n",
    "            tasks.pop(selected_index[0])\n",
    "\n",
    "window = tk.Tk()\n",
    "window.title(\"To_Do_List\")\n",
    "\n",
    "\n",
    "listbox = tk.Listbox(window, width=50, bg=\"black\", fg=\"white\")\n",
    "listbox.pack(pady=10)\n",
    "\n",
    "entry = tk.Entry(window, font=(\"Arial\", 16), width=36)\n",
    "entry.pack(pady=10)\n",
    "\n",
    "\n",
    "button_frame = tk.Frame(window)\n",
    "button_frame.pack(pady=10)\n",
    "\n",
    "add_button = tk.Button(button_frame, text=\"Add\", bg=\"black\", fg=\"red\", command=add_task)\n",
    "add_button.grid(row=0, column=0, padx=5)\n",
    "\n",
    "edit_button = tk.Button(button_frame, text=\"Edit\", bg=\"black\", fg=\"red\", command=edit_task)\n",
    "edit_button.grid(row=0, column=1, padx=5)\n",
    "\n",
    "delete_button = tk.Button(button_frame, text=\"Delete\", bg=\"black\", fg=\"red\", command=delete_task)\n",
    "delete_button.grid(row=0, column=2, padx=5)\n",
    "\n",
    "window.mainloop()"
   ]
  },
  {
   "cell_type": "code",
   "execution_count": null,
   "id": "960f412c",
   "metadata": {},
   "outputs": [],
   "source": []
  },
  {
   "cell_type": "code",
   "execution_count": null,
   "id": "5ed2448f",
   "metadata": {},
   "outputs": [],
   "source": []
  }
 ],
 "metadata": {
  "kernelspec": {
   "display_name": "Python 3 (ipykernel)",
   "language": "python",
   "name": "python3"
  },
  "language_info": {
   "codemirror_mode": {
    "name": "ipython",
    "version": 3
   },
   "file_extension": ".py",
   "mimetype": "text/x-python",
   "name": "python",
   "nbconvert_exporter": "python",
   "pygments_lexer": "ipython3",
   "version": "3.9.13"
  }
 },
 "nbformat": 4,
 "nbformat_minor": 5
}
